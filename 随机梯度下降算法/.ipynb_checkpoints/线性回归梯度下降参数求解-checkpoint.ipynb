{
 "cells": [
  {
   "cell_type": "code",
   "execution_count": 1,
   "metadata": {},
   "outputs": [],
   "source": [
    "import numpy as np\n",
    "import pandas as pd\n",
    "import matplotlib.pyplot as plt"
   ]
  },
  {
   "cell_type": "code",
   "execution_count": 2,
   "metadata": {},
   "outputs": [],
   "source": [
    "m=40 \n",
    "X0=np.ones((m,1))\n",
    "X1=np.arange(1,m+1).reshape(m,1)\n",
    "X=np.hstack((X0,X1))"
   ]
  },
  {
   "cell_type": "code",
   "execution_count": 3,
   "metadata": {},
   "outputs": [
    {
     "data": {
      "text/plain": [
       "40"
      ]
     },
     "execution_count": 3,
     "metadata": {},
     "output_type": "execute_result"
    }
   ],
   "source": [
    "X.shape[0]"
   ]
  },
  {
   "cell_type": "code",
   "execution_count": 4,
   "metadata": {},
   "outputs": [],
   "source": [
    "# Y=np.array([\n",
    "#     3, 4, 5, 5, 2, 4, 7, 8, 11, 8, 12,\n",
    "#     11, 13, 13, 16, 17, 18, 17, 19, 21,\n",
    "#     22,23,24,27,29,30,21,20,29,28\n",
    "# ]).reshape(m,1)\n",
    "Y=np.array([3, 4, 5, 5, 2, 4, 7, 8, 11, 8, \n",
    "            12,11, 13, 13, 16, 17, 18, 17, 19, 21,\n",
    "            22,23,24,27,29,30,21,20,29,28,\n",
    "            31,32,33,35,36,37,38,39,42,40]).reshape(m,1)"
   ]
  },
  {
   "cell_type": "code",
   "execution_count": 5,
   "metadata": {},
   "outputs": [
    {
     "data": {
      "text/plain": [
       "<matplotlib.collections.PathCollection at 0x1c9a50a2d30>"
      ]
     },
     "execution_count": 5,
     "metadata": {},
     "output_type": "execute_result"
    },
    {
     "data": {
      "image/png": "[encoded data removed]",
      "text/plain": [
       "<matplotlib.figure.Figure at 0x1c9a4fc5358>"
      ]
     },
     "metadata": {},
     "output_type": "display_data"
    }
   ],
   "source": [
    "plt.scatter(X1,Y)"
   ]
  },
  {
   "cell_type": "markdown",
   "metadata": {},
   "source": [
    "# 开始梯度下降计算参数"
   ]
  },
  {
   "cell_type": "code",
   "execution_count": 57,
   "metadata": {},
   "outputs": [],
   "source": [
    "#梯度下降算法\n",
    "def gradient_descent(x,y,alpha,threshold,maxIter):\n",
    "    cnt=0\n",
    "    loss={}\n",
    "    theta=np.array([1,1]).reshape(2,1)\n",
    "    gradient=gradient_func(x,y,theta)\n",
    "    error=errors_func(x,y,theta)\n",
    "    loss[cnt]=error[0][0]\n",
    "    while not np.all(np.absolute(gradient) <= threshold) and cnt<maxIter:\n",
    "        cnt=cnt+1\n",
    "        theta=theta-alpha*gradient\n",
    "        gradient=gradient_func(x,y,theta)\n",
    "        error=errors_func(x,y,theta)\n",
    "        loss[cnt]=error[0][0]\n",
    "    print('迭代到第{}次，结束迭代！'.format(cnt))\n",
    "    #画出loss函数\n",
    "    lossdf=pd.DataFrame.from_dict(loss,orient='index')\n",
    "    plt.plot(lossdf)\n",
    "    plt.xlabel('epochs')\n",
    "    plt.ylabel('loss')\n",
    "    plt.legend(labels=['loss'])\n",
    "    plt.show()\n",
    "    return theta,lossdf\n",
    "    \n",
    "#计算梯度的函数\n",
    "def gradient_func(x,y,theta):\n",
    "    diff=np.dot(x,theta)-y\n",
    "    grad=(1.0/(x.shape[0]))*np.dot(np.transpose(x),diff)\n",
    "    return grad\n",
    "    \n",
    "#计算损失的函数\n",
    "def errors_func(x,y,theta):\n",
    "    diff=np.dot(x,theta)-y\n",
    "    error=(1.0/(2*x.shape[0]))*np.dot(np.transpose(diff),diff)\n",
    "    return error"
   ]
  },
  {
   "cell_type": "code",
   "execution_count": 58,
   "metadata": {},
   "outputs": [
    {
     "name": "stdout",
     "output_type": "stream",
     "text": [
      "迭代到第81927次，结束迭代！\n"
     ]
    },
    {
     "data": {
      "image/png": "[encoded data removed]",
      "text/plain": [
       "<matplotlib.figure.Figure at 0x1c9abba4da0>"
      ]
     },
     "metadata": {},
     "output_type": "display_data"
    }
   ],
   "source": [
    "alpha=0.0005\n",
    "thresh=1e-5\n",
    "maxIter=100000\n",
    "theta,lossdf=gradient_descent(X,Y,alpha,thresh,maxIter)"
   ]
  },
  {
   "cell_type": "code",
   "execution_count": 59,
   "metadata": {},
   "outputs": [
    {
     "name": "stdout",
     "output_type": "stream",
     "text": [
      "optimal theta: 0.2115800529911778 1.0018746315143365\n"
     ]
    }
   ],
   "source": [
    "print(\"optimal theta:\",theta[0][0],theta[1][0])"
   ]
  },
  {
   "cell_type": "code",
   "execution_count": 60,
   "metadata": {},
   "outputs": [],
   "source": [
    "Y_p=np.dot(X,theta)"
   ]
  },
  {
   "cell_type": "code",
   "execution_count": 64,
   "metadata": {},
   "outputs": [
    {
     "data": {
      "text/plain": [
       "<matplotlib.legend.Legend at 0x1c9aafec940>"
      ]
     },
     "execution_count": 64,
     "metadata": {},
     "output_type": "execute_result"
    },
    {
     "data": {
      "image/png": "[encoded data removed]",
      "text/plain": [
       "<matplotlib.figure.Figure at 0x1c9ab5c8be0>"
      ]
     },
     "metadata": {},
     "output_type": "display_data"
    }
   ],
   "source": [
    "plt.plot(X1,Y_p,'r-x')\n",
    "plt.scatter(X1,Y)\n",
    "plt.legend(labels=['predict value','origin'])"
   ]
  },
  {
   "cell_type": "code",
   "execution_count": null,
   "metadata": {},
   "outputs": [],
   "source": []
  }
 ],
 "metadata": {
  "kernelspec": {
   "display_name": "Python 3",
   "language": "python",
   "name": "python3"
  },
  "language_info": {
   "codemirror_mode": {
    "name": "ipython",
    "version": 3
   },
   "file_extension": ".py",
   "mimetype": "text/x-python",
   "name": "python",
   "nbconvert_exporter": "python",
   "pygments_lexer": "ipython3",
   "version": "3.6.4"
  }
 },
 "nbformat": 4,
 "nbformat_minor": 2
}
