{
 "cells": [
  {
   "cell_type": "code",
   "execution_count": 30,
   "metadata": {},
   "outputs": [],
   "source": [
    "import numpy as np\n",
    "import pandas as pd\n",
    "import matplotlib.pyplot as plt\n",
    "from mpl_toolkits.mplot3d import Axes3D\n",
    "from matplotlib import cm"
   ]
  },
  {
   "cell_type": "code",
   "execution_count": 31,
   "metadata": {},
   "outputs": [
    {
     "data": {
      "text/plain": [
       "(40, 2)"
      ]
     },
     "execution_count": 31,
     "metadata": {},
     "output_type": "execute_result"
    }
   ],
   "source": [
    "m=40 \n",
    "\n",
    "X0=np.ones((m,1))\n",
    "X1=np.arange(1,m+1).reshape(m,1)\n",
    "X=np.hstack((X0,X1))\n",
    "X.shape"
   ]
  },
  {
   "cell_type": "code",
   "execution_count": 32,
   "metadata": {},
   "outputs": [
    {
     "data": {
      "text/plain": [
       "40"
      ]
     },
     "execution_count": 32,
     "metadata": {},
     "output_type": "execute_result"
    }
   ],
   "source": [
    "X.shape[0]"
   ]
  },
  {
   "cell_type": "code",
   "execution_count": 33,
   "metadata": {},
   "outputs": [],
   "source": [
    "# Y=np.array([\n",
    "#     3, 4, 5, 5, 2, 4, 7, 8, 11, 8, 12,\n",
    "#     11, 13, 13, 16, 17, 18, 17, 19, 21,\n",
    "#     22,23,24,27,29,30,21,20,29,28\n",
    "# ]).reshape(m,1)\n",
    "Y=np.array([3, 4, 5, 5, 2, 4, 7, 8, 11, 8, 12,11, 13, 13, 16, 17, 18, 17, 19, 21,\n",
    "           22,23,24,27,29,30,21,20,29,28,\n",
    "           31,32,33,35,36,37,38,39,42,40]).reshape(m,1)"
   ]
  },
  {
   "cell_type": "code",
   "execution_count": 34,
   "metadata": {},
   "outputs": [
    {
     "data": {
      "text/plain": [
       "<matplotlib.collections.PathCollection at 0x270168e4e80>"
      ]
     },
     "execution_count": 34,
     "metadata": {},
     "output_type": "execute_result"
    },
    {
     "data": {
      "image/png": "[encoded data removed]",
      "text/plain": [
       "<matplotlib.figure.Figure at 0x27016859dd8>"
      ]
     },
     "metadata": {},
     "output_type": "display_data"
    }
   ],
   "source": [
    "plt.scatter(X1,Y)"
   ]
  },
  {
   "cell_type": "markdown",
   "metadata": {},
   "source": [
    "# 开始梯度下降计算参数"
   ]
  },
  {
   "cell_type": "code",
   "execution_count": 35,
   "metadata": {},
   "outputs": [],
   "source": [
    "#梯度下降算法\n",
    "def gradient_descent(x,y,alpha,threshold):\n",
    "    theta=np.array([1,1]).reshape(2,1)\n",
    "    gradient=gradient_func(x,y,theta)\n",
    "    while not np.all(np.absolute(gradient) <= threshold):\n",
    "        theta=theta-alpha*gradient\n",
    "        gradient=gradient_func(x,y,theta)\n",
    "    return theta\n",
    "    \n",
    "#计算梯度的函数\n",
    "def gradient_func(x,y,theta):\n",
    "    diff=np.dot(x,theta)-y\n",
    "    grad=(1.0/(x.shape[0]))*np.dot(np.transpose(x),diff)\n",
    "    return grad\n",
    "    \n",
    "#计算损失的函数\n",
    "def errors_func(x,y,theta):\n",
    "    diff=np.dot(x,theta)-y\n",
    "    error=(1.0/(2*x.shape[0]))*np.dot(np.transpose(diff),diff)\n",
    "    return error"
   ]
  },
  {
   "cell_type": "code",
   "execution_count": 36,
   "metadata": {},
   "outputs": [],
   "source": [
    "alpha=0.001\n",
    "thresh=1e-5\n",
    "theta=gradient_descent(X,Y,alpha,thresh)\n",
    "error=errors_func(X,Y,theta)"
   ]
  },
  {
   "cell_type": "code",
   "execution_count": 37,
   "metadata": {},
   "outputs": [
    {
     "name": "stdout",
     "output_type": "stream",
     "text": [
      "[[0.21158005]\n",
      " [1.00187463]]\n"
     ]
    }
   ],
   "source": [
    "print(theta)"
   ]
  },
  {
   "cell_type": "code",
   "execution_count": 38,
   "metadata": {},
   "outputs": [
    {
     "name": "stdout",
     "output_type": "stream",
     "text": [
      "[[2.51851548]]\n"
     ]
    }
   ],
   "source": [
    "print(error)"
   ]
  },
  {
   "cell_type": "code",
   "execution_count": null,
   "metadata": {},
   "outputs": [],
   "source": []
  }
 ],
 "metadata": {
  "kernelspec": {
   "display_name": "Python 3",
   "language": "python",
   "name": "python3"
  },
  "language_info": {
   "codemirror_mode": {
    "name": "ipython",
    "version": 3
   },
   "file_extension": ".py",
   "mimetype": "text/x-python",
   "name": "python",
   "nbconvert_exporter": "python",
   "pygments_lexer": "ipython3",
   "version": "3.6.4"
  }
 },
 "nbformat": 4,
 "nbformat_minor": 2
}
