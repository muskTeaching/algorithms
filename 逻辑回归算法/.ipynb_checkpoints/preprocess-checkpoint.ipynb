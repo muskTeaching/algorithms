{
 "cells": [
  {
   "cell_type": "code",
   "execution_count": 2,
   "metadata": {},
   "outputs": [],
   "source": [
    "import pandas as pd\n",
    "import numpy as np\n",
    "import codecs\n",
    "import os,random\n",
    "import re\n",
    "from xml.dom import minidom\n",
    "from urllib.parse import urlparse"
   ]
  },
  {
   "cell_type": "code",
   "execution_count": 293,
   "metadata": {},
   "outputs": [],
   "source": [
    "# 预处理xml文件，解决docs,url,content标签问题\n",
    "def file_fill(file_dir,half_dir):\n",
    "    # 查看half_dir文件夹下的文件夹和文件目录\n",
    "    for _,_,files in os.walk(file_dir):\n",
    "        # 判断是否存在half_dir，如果没有则创建\n",
    "        if not os.path.exists(half_dir):\n",
    "            os.makedirs(half_dir)\n",
    "        for f in files:\n",
    "            tmp_dir = half_dir+'/'+f\n",
    "            text_init_dir = file_dir+'/'+f\n",
    "            # 遍历文件夹下的每一篇xml文件\n",
    "            with open(text_init_dir, 'r', encoding='gb18030') as source_file:\n",
    "                start,end = '<docs>\\n','</docs>'\n",
    "                line_content = source_file.readlines()\n",
    "                # 在目标文件夹中创建新文件保存预处理后的文件\n",
    "                with open(tmp_dir, 'w+', encoding='utf-8') as handle_file:\n",
    "                    # 添加'<docs>'头标签\n",
    "                    handle_file.write(start)\n",
    "                    for line in line_content:\n",
    "                        # 处理url中的‘&’符号\n",
    "                        text = line.replace('&', '&amp;')\n",
    "                        # 添加'</docs>'头标签\n",
    "                        handle_file.write(text)\n",
    "                    handle_file.write(end)\n",
    "\n",
    "# 检查url对应的文章是否在分类字典中\n",
    "def check_class(url_lb,labels):\n",
    "    if url_lb in labels:\n",
    "        return True\n",
    "    return False\n",
    "\n",
    "# 部分样本获取函数\n",
    "def choice_files(half_dir,choice_dir,n):\n",
    "    if not os.path.exists(choice_dir):\n",
    "        os.makedirs(choice_dir)\n",
    "    for _,_,files in os.walk(half_dir):\n",
    "        file_list = files\n",
    "        for file in file_list:\n",
    "            with open(half_dir+'/'+file,'r',encoding='utf-8') as f1:\n",
    "                doc = f1.read()\n",
    "#                 path = './'+choice_dir+'./'+file\n",
    "                path = choice_dir+'/'+file\n",
    "                with open(path,'a+',encoding='utf-8') as f2:\n",
    "                    f2.write(doc)\n",
    "    print('文件存储完毕')\n",
    "    return file_list\n",
    "\n",
    "# 定义文本提取函数\n",
    "def file_read(file_dir,labels,path):\n",
    "    for _,_,files in os.walk(file_dir):\n",
    "        for f in files:\n",
    "            filename = file_dir+'/'+f\n",
    "            doc = minidom.parse(filename)\n",
    "            root = doc.documentElement\n",
    "            claimtext = root.getElementsByTagName('content')\n",
    "            claimurl = root.getElementsByTagName('url')\n",
    "            for ind in range(len(claimurl)):\n",
    "                if claimtext[ind].firstChild == None:\n",
    "                    continue \n",
    "                url = urlparse(claimurl[ind].firstChild.data)\n",
    "                url_lb = url.hostname.strip().split('.')[0]\n",
    "                if check_class(url_lb,labels):              \n",
    "                    if not os.path.exists(path):\n",
    "                        os.makedirs(path)\n",
    "                    if not os.path.exists(path+'/'+labels[url_lb]):\n",
    "                        os.makedirs(path+'/'+labels[url_lb])\n",
    "                    file_name = path+'/'+labels[url_lb]+'/'+\"{}.txt\".format(labels[url_lb])\n",
    "                    with open(file_name,\"a+\",encoding='utf-8') as file_in:\n",
    "                        file_in.write(claimtext[ind].firstChild.data+'\\n')"
   ]
  },
  {
   "cell_type": "code",
   "execution_count": 295,
   "metadata": {},
   "outputs": [],
   "source": [
    "# 建立url和类别的映射字典\n",
    "labels = {'auto':'汽车','tech':'科技',\n",
    "          'health':'健康','sports':'体育',\n",
    "          'house':'房产','edu':'教育',\n",
    "          'lady':'女人','eladies':'女人',\n",
    "          'mil':'军事','military':'军事',\n",
    "          'money':'财经','finance':'财经',\n",
    "          'cul':'文化','culture':'文化',\n",
    "          'fun':'娱乐','2008':'奥运',\n",
    "          'gongyi':'公益'\n",
    "         }"
   ]
  },
  {
   "cell_type": "code",
   "execution_count": 280,
   "metadata": {},
   "outputs": [],
   "source": [
    "file_dir=\"/Users/liubin/Downloads/SogouCS.reduced\"\n",
    "half_dir=\"/Users/liubin/Downloads/sougou_half\"\n",
    "file_fill(file_dir,half_dir)"
   ]
  },
  {
   "cell_type": "code",
   "execution_count": 281,
   "metadata": {},
   "outputs": [
    {
     "name": "stdout",
     "output_type": "stream",
     "text": [
      "128\n"
     ]
    }
   ],
   "source": [
    "print(len(os.listdir(half_dir)))"
   ]
  },
  {
   "cell_type": "code",
   "execution_count": 289,
   "metadata": {},
   "outputs": [
    {
     "name": "stdout",
     "output_type": "stream",
     "text": [
      "文件存储完毕\n"
     ]
    }
   ],
   "source": [
    "choice_dir = '/Users/liubin/Downloads/sougou_choice'\n",
    "file_list = choice_files(half_dir,choice_dir,128)"
   ]
  },
  {
   "cell_type": "code",
   "execution_count": 3,
   "metadata": {},
   "outputs": [],
   "source": [
    "# 定义存放最后文件的文件夹地址\n",
    "path = \"/Users/liubin/Downloads/sougou_after\"\n",
    "# 将选好的文件进行纯文本提取和分类存储\n",
    "# file_read(choice_dir,labels,path)"
   ]
  },
  {
   "cell_type": "code",
   "execution_count": 11,
   "metadata": {},
   "outputs": [],
   "source": [
    "def mergeFiles(inpath,outpath):\n",
    "    if not os.path.exists(outpath):\n",
    "        os.makedirs(outpath)\n",
    "    files=os.listdir(inpath)\n",
    "    print(files)\n",
    "    res=[]\n",
    "    for filename in files:\n",
    "            if not '.' in filename:\n",
    "                print(inpath+\"/\"+filename+\"/\"+filename+\".txt\")\n",
    "                tmpdf=pd.read_csv(inpath+\"/\"+filename+\"/\"+filename+\".txt\",encoding='utf-8',header=None)\n",
    "                tmpdf.columns=['content']\n",
    "                tmpdf.insert(0,'label',filename)\n",
    "                print(tmpdf.head(3))\n",
    "                tmpdf.to_csv(outpath+\"/\"+filename+\".csv\",index=False,sep=\"\\t\")\n",
    "                res.append(tmpdf)\n",
    "    resdf=pd.concat(res,axis=0)\n",
    "    print(resdf.head(5))\n",
    "    print(resdf.shape)\n",
    "    resdf.to_csv(outpath+\"/newstxt.csv\",index=False,sep=\"\\t\",encoding='utf-8')"
   ]
  },
  {
   "cell_type": "code",
   "execution_count": 12,
   "metadata": {},
   "outputs": [
    {
     "name": "stdout",
     "output_type": "stream",
     "text": [
      "['文化', '.DS_Store', '奥运', '汽车', '健康', '房产', '军事', '体育']\n",
      "/Users/liubin/Downloads/sougou_after/文化/文化.txt\n",
      "  label                                            content\n",
      "0    文化  来源：新闻午报本报讯昨日是“６·５世界环境日”，环保电影《因水之名》在京郊拍摄开机。与此同...\n",
      "1    文化  来源：新闻午报本报讯由８０后新锐导演卢正雨执导，国际艾美奖最佳男主角被提名者林申、“世界杯...\n",
      "2    文化  来源：搜狐文化新疆博大的气势在任何地方都看不到顾小锋：新疆。新疆博大的气势在任何地方都看...\n",
      "/Users/liubin/Downloads/sougou_after/奥运/奥运.txt\n",
      "  label                                            content\n",
      "0    奥运  来源：第２９届奥林匹克运动会官方网站　作者：摄／崔萌北京奥运官网５月２５日讯　５月２４日，...\n",
      "1    奥运  来源：新华社６月２５日，奥运火炬手张应斌（左二）与刘玉虎在传递过程中交接。当日，北京奥运圣...\n",
      "2    奥运  来源：第２９届奥林匹克运动会官方网站　作者：摄影／李方宇独特的火炬交接独特的火炬交接独...\n",
      "/Users/liubin/Downloads/sougou_after/汽车/汽车.txt\n",
      "  label                                            content\n",
      "0    汽车  继四川省之后，更多地区对钢材、水泥等价格进行了临时干预，一些钢厂也承诺救灾用彩板不涨价。不过...\n",
      "1    汽车  东风雪铁龙凯旋在２００７年获得Ｃ－ＮＣＡＰ五星之后，被不少用户称为“五星凯旋”，这直观地点出...\n",
      "2    汽车  内饰亮点·　饰条采用铝和三种优良木材·　源自奥迪Ａ６的座舱·　配备１４个扬声器的Ｂｏｓ...\n",
      "/Users/liubin/Downloads/sougou_after/健康/健康.txt\n",
      "  label                                            content\n",
      "0    健康  五月二十五日，军警医护人员在搬运一名来自四川广元的伤员。当日上午十一时零三分，满载着二百七十...\n",
      "1    健康  淋巴瘤是原发于淋巴系统的恶性肿瘤，在国内发病率逐年升高，已引起医学界的高度重视。为了提高公...\n",
      "2    健康  本期嘉宾北医三院皮肤科主任李邻峰教授　教授谈皮肤瘙痒的防治问题北京大学第三医院皮肤科主任...\n",
      "/Users/liubin/Downloads/sougou_after/房产/房产.txt\n",
      "  label                                            content\n",
      "0    房产  １．反对宪法基本原则，危害国家安全、政权稳定统一的；煽动民族仇恨、民族歧视的；２．宣扬邪教...\n",
      "1    房产  １．反对宪法基本原则，危害国家安全、政权稳定统一的；煽动民族仇恨、民族歧视的；２．宣扬邪教...\n",
      "2    房产  唯一编号　８１７８５７６０５２中介公司内部编号　主推房城区与地址　朝阳区　东三环，ＣＢＤ...\n",
      "/Users/liubin/Downloads/sougou_after/军事/军事.txt\n",
      "  label                                            content\n",
      "0    军事  跳转至：页２／８我来说两句授予成都军区某陆航团荣誉称号大会在成都举行（责任编辑：关福...\n",
      "1    军事  俄联邦警卫局局长一级上将叶夫根尼·穆罗夫所有人都会讲外语问：总统、总理还有其它被保护者经...\n",
      "2    军事  资料图：印度“阿琼”主战坦克印媒称，中国正在“手指地带”（北部锡金地区）显示军力，这里正是...\n",
      "/Users/liubin/Downloads/sougou_after/体育/体育.txt\n",
      "  label                                            content\n",
      "0    体育  来源：搜狐体育［点击图片进入下一页］北京时间６月１２日消息，西班牙在奥地利因斯布鲁克附近...\n",
      "1    体育  来源：搜狐体育搜狐体育讯　北京时间６月１４日凌晨０：００，０８欧洲杯Ｃ组第二轮小组赛率先展...\n",
      "2    体育  来源：中国新闻网中新网６月２５日电继前日郑洁、李娜在温网首轮过关斩将后，另外一位中国选手彭...\n",
      "  label                                            content\n",
      "0    文化  来源：新闻午报本报讯昨日是“６·５世界环境日”，环保电影《因水之名》在京郊拍摄开机。与此同...\n",
      "1    文化  来源：新闻午报本报讯由８０后新锐导演卢正雨执导，国际艾美奖最佳男主角被提名者林申、“世界杯...\n",
      "2    文化  来源：搜狐文化新疆博大的气势在任何地方都看不到顾小锋：新疆。新疆博大的气势在任何地方都看...\n",
      "3    文化  来源：凤凰网王明父亲还给我讲了一些李德的私生活，父亲笑着说：“李德刚刚来到部队，提出了...\n",
      "4    文化  来源：搜狐文化（２）　火舞迷城系列（大炮台）Ｄａｎｃｉｎｇ　Ｆｉｒｅ　ｉｎ　ａ　Ｌｏｓｔ...\n",
      "(197882, 2)\n"
     ]
    }
   ],
   "source": [
    "outpath=\"/Users/liubin/Downloads/sougou_merged/\"\n",
    "mergeFiles(path,outpath)"
   ]
  },
  {
   "cell_type": "code",
   "execution_count": 13,
   "metadata": {},
   "outputs": [],
   "source": [
    "from sklearn.model_selection import train_test_split"
   ]
  },
  {
   "cell_type": "code",
   "execution_count": 14,
   "metadata": {},
   "outputs": [
    {
     "data": {
      "text/html": [
       "<div>\n",
       "<style scoped>\n",
       "    .dataframe tbody tr th:only-of-type {\n",
       "        vertical-align: middle;\n",
       "    }\n",
       "\n",
       "    .dataframe tbody tr th {\n",
       "        vertical-align: top;\n",
       "    }\n",
       "\n",
       "    .dataframe thead th {\n",
       "        text-align: right;\n",
       "    }\n",
       "</style>\n",
       "<table border=\"1\" class=\"dataframe\">\n",
       "  <thead>\n",
       "    <tr style=\"text-align: right;\">\n",
       "      <th></th>\n",
       "      <th>label</th>\n",
       "      <th>content</th>\n",
       "    </tr>\n",
       "  </thead>\n",
       "  <tbody>\n",
       "    <tr>\n",
       "      <th>0</th>\n",
       "      <td>文化</td>\n",
       "      <td>来源：新闻午报本报讯昨日是“６·５世界环境日”，环保电影《因水之名》在京郊拍摄开机。与此同...</td>\n",
       "    </tr>\n",
       "    <tr>\n",
       "      <th>1</th>\n",
       "      <td>文化</td>\n",
       "      <td>来源：新闻午报本报讯由８０后新锐导演卢正雨执导，国际艾美奖最佳男主角被提名者林申、“世界杯...</td>\n",
       "    </tr>\n",
       "  </tbody>\n",
       "</table>\n",
       "</div>"
      ],
      "text/plain": [
       "  label                                            content\n",
       "0    文化  来源：新闻午报本报讯昨日是“６·５世界环境日”，环保电影《因水之名》在京郊拍摄开机。与此同...\n",
       "1    文化  来源：新闻午报本报讯由８０后新锐导演卢正雨执导，国际艾美奖最佳男主角被提名者林申、“世界杯..."
      ]
     },
     "execution_count": 14,
     "metadata": {},
     "output_type": "execute_result"
    }
   ],
   "source": [
    "df=pd.read_csv(outpath+\"/newstxt.csv\",sep=\"\\t\")\n",
    "df.head(2)"
   ]
  },
  {
   "cell_type": "code",
   "execution_count": 15,
   "metadata": {},
   "outputs": [],
   "source": [
    "X=df['content']\n",
    "y=df['label']"
   ]
  },
  {
   "cell_type": "code",
   "execution_count": 16,
   "metadata": {},
   "outputs": [],
   "source": [
    "X_train,X_test,y_train,y_test=train_test_split(X,y,test_size=0.33,random_state=42)"
   ]
  },
  {
   "cell_type": "code",
   "execution_count": 17,
   "metadata": {},
   "outputs": [
    {
     "data": {
      "text/html": [
       "<div>\n",
       "<style scoped>\n",
       "    .dataframe tbody tr th:only-of-type {\n",
       "        vertical-align: middle;\n",
       "    }\n",
       "\n",
       "    .dataframe tbody tr th {\n",
       "        vertical-align: top;\n",
       "    }\n",
       "\n",
       "    .dataframe thead th {\n",
       "        text-align: right;\n",
       "    }\n",
       "</style>\n",
       "<table border=\"1\" class=\"dataframe\">\n",
       "  <thead>\n",
       "    <tr style=\"text-align: right;\">\n",
       "      <th></th>\n",
       "      <th>content</th>\n",
       "      <th>label</th>\n",
       "    </tr>\n",
       "  </thead>\n",
       "  <tbody>\n",
       "    <tr>\n",
       "      <th>7864</th>\n",
       "      <td>来源：第２９届奥林匹克运动会官方网站　作者：摄影／李威北京奥运官网６月４日讯　６月４日，北...</td>\n",
       "      <td>奥运</td>\n",
       "    </tr>\n",
       "    <tr>\n",
       "      <th>192709</th>\n",
       "      <td>葡萄牙两个前锋一人一球，算是给球迷一个交代，但是球队整体低迷的状态，让葡萄牙轻松丢了３球，最...</td>\n",
       "      <td>体育</td>\n",
       "    </tr>\n",
       "  </tbody>\n",
       "</table>\n",
       "</div>"
      ],
      "text/plain": [
       "                                                  content label\n",
       "7864    来源：第２９届奥林匹克运动会官方网站　作者：摄影／李威北京奥运官网６月４日讯　６月４日，北...    奥运\n",
       "192709  葡萄牙两个前锋一人一球，算是给球迷一个交代，但是球队整体低迷的状态，让葡萄牙轻松丢了３球，最...    体育"
      ]
     },
     "execution_count": 17,
     "metadata": {},
     "output_type": "execute_result"
    }
   ],
   "source": [
    "train=pd.concat([X_train,y_train],axis=1)\n",
    "train.head(2)"
   ]
  },
  {
   "cell_type": "code",
   "execution_count": 18,
   "metadata": {},
   "outputs": [
    {
     "data": {
      "text/html": [
       "<div>\n",
       "<style scoped>\n",
       "    .dataframe tbody tr th:only-of-type {\n",
       "        vertical-align: middle;\n",
       "    }\n",
       "\n",
       "    .dataframe tbody tr th {\n",
       "        vertical-align: top;\n",
       "    }\n",
       "\n",
       "    .dataframe thead th {\n",
       "        text-align: right;\n",
       "    }\n",
       "</style>\n",
       "<table border=\"1\" class=\"dataframe\">\n",
       "  <thead>\n",
       "    <tr style=\"text-align: right;\">\n",
       "      <th></th>\n",
       "      <th>content</th>\n",
       "      <th>label</th>\n",
       "    </tr>\n",
       "  </thead>\n",
       "  <tbody>\n",
       "    <tr>\n",
       "      <th>176060</th>\n",
       "      <td>来源：深圳新闻网－深圳特区报本报讯北京时间６月１６日河南济源消息，中国男篮以８０∶７６第三...</td>\n",
       "      <td>体育</td>\n",
       "    </tr>\n",
       "    <tr>\n",
       "      <th>32838</th>\n",
       "      <td>随着北京奥运盛会临近，今年７月、８月、９月也变得与以往不同，起码在汽车商家眼中是这样。“北...</td>\n",
       "      <td>汽车</td>\n",
       "    </tr>\n",
       "  </tbody>\n",
       "</table>\n",
       "</div>"
      ],
      "text/plain": [
       "                                                  content label\n",
       "176060  来源：深圳新闻网－深圳特区报本报讯北京时间６月１６日河南济源消息，中国男篮以８０∶７６第三...    体育\n",
       "32838   随着北京奥运盛会临近，今年７月、８月、９月也变得与以往不同，起码在汽车商家眼中是这样。“北...    汽车"
      ]
     },
     "execution_count": 18,
     "metadata": {},
     "output_type": "execute_result"
    }
   ],
   "source": [
    "test=pd.concat([X_test,y_test],axis=1)\n",
    "test.head(2)"
   ]
  },
  {
   "cell_type": "code",
   "execution_count": 19,
   "metadata": {},
   "outputs": [],
   "source": [
    "train.to_csv(outpath+'news_train.csv',sep='\\t',index=False)"
   ]
  },
  {
   "cell_type": "code",
   "execution_count": null,
   "metadata": {},
   "outputs": [],
   "source": [
    "test.to_csv(outpath+'news_test.csv',sep='\\t',index=False)"
   ]
  }
 ],
 "metadata": {
  "kernelspec": {
   "display_name": "Python 3",
   "language": "python",
   "name": "python3"
  },
  "language_info": {
   "codemirror_mode": {
    "name": "ipython",
    "version": 3
   },
   "file_extension": ".py",
   "mimetype": "text/x-python",
   "name": "python",
   "nbconvert_exporter": "python",
   "pygments_lexer": "ipython3",
   "version": "3.7.1"
  }
 },
 "nbformat": 4,
 "nbformat_minor": 2
}
