{
 "cells": [
  {
   "cell_type": "code",
   "execution_count": 2,
   "metadata": {},
   "outputs": [],
   "source": [
    "import pandas as pd\n",
    "import numpy as np \n",
    "import jieba as jb\n",
    "import re"
   ]
  },
  {
   "cell_type": "code",
   "execution_count": 3,
   "metadata": {},
   "outputs": [
    {
     "data": {
      "text/html": [
       "<div>\n",
       "<style scoped>\n",
       "    .dataframe tbody tr th:only-of-type {\n",
       "        vertical-align: middle;\n",
       "    }\n",
       "\n",
       "    .dataframe tbody tr th {\n",
       "        vertical-align: top;\n",
       "    }\n",
       "\n",
       "    .dataframe thead th {\n",
       "        text-align: right;\n",
       "    }\n",
       "</style>\n",
       "<table border=\"1\" class=\"dataframe\">\n",
       "  <thead>\n",
       "    <tr style=\"text-align: right;\">\n",
       "      <th></th>\n",
       "      <th>content</th>\n",
       "      <th>label</th>\n",
       "    </tr>\n",
       "  </thead>\n",
       "  <tbody>\n",
       "    <tr>\n",
       "      <th>0</th>\n",
       "      <td>来源：第２９届奥林匹克运动会官方网站　作者：摄影／李威北京奥运官网６月４日讯　６月４日，北...</td>\n",
       "      <td>奥运</td>\n",
       "    </tr>\n",
       "    <tr>\n",
       "      <th>1</th>\n",
       "      <td>葡萄牙两个前锋一人一球，算是给球迷一个交代，但是球队整体低迷的状态，让葡萄牙轻松丢了３球，最...</td>\n",
       "      <td>体育</td>\n",
       "    </tr>\n",
       "    <tr>\n",
       "      <th>2</th>\n",
       "      <td>我来说两句作者：张仪瑞士巴塞尔当地时间６月２０日晚（北京时间２１日凌晨），荷兰队在巴塞尔...</td>\n",
       "      <td>体育</td>\n",
       "    </tr>\n",
       "  </tbody>\n",
       "</table>\n",
       "</div>"
      ],
      "text/plain": [
       "                                             content label\n",
       "0  来源：第２９届奥林匹克运动会官方网站　作者：摄影／李威北京奥运官网６月４日讯　６月４日，北...    奥运\n",
       "1  葡萄牙两个前锋一人一球，算是给球迷一个交代，但是球队整体低迷的状态，让葡萄牙轻松丢了３球，最...    体育\n",
       "2  我来说两句作者：张仪瑞士巴塞尔当地时间６月２０日晚（北京时间２１日凌晨），荷兰队在巴塞尔...    体育"
      ]
     },
     "execution_count": 3,
     "metadata": {},
     "output_type": "execute_result"
    }
   ],
   "source": [
    "train_path=\"data/news_train.csv\"\n",
    "train_data=pd.read_csv(train_path,sep=\"\\t\")\n",
    "train_data.head(3)"
   ]
  },
  {
   "cell_type": "markdown",
   "metadata": {},
   "source": [
    "# 数据预处理，过滤掉特殊字符以及标点符号"
   ]
  },
  {
   "cell_type": "code",
   "execution_count": 4,
   "metadata": {},
   "outputs": [],
   "source": [
    "#中文数字以及英文的匹配正则表达式\n",
    "CH_EN_DIG=re.compile(r\"[\\u4e00-\\u9fa5a-zA-Z0-9]+\")\n",
    "stopwords=[\"的\",\"你\",\"我\",\"他\"]"
   ]
  },
  {
   "cell_type": "code",
   "execution_count": 9,
   "metadata": {},
   "outputs": [],
   "source": [
    "#过滤特殊字符的函数\n",
    "def filterOutSpecialCharacters(content,thePattern):\n",
    "    matched=re.findall(thePattern,content)\n",
    "    return ' '.join(matched) if len(matched)>0 else np.nan\n",
    "\n",
    "#分词以及过滤停用词的函数\n",
    "def cutWords(content,stopWords):\n",
    "    try:\n",
    "        words=[w for w in jb.cut(content) if w not in stopWords]\n",
    "        return words if len(words)>0 else np.nan\n",
    "    except:\n",
    "        print(content)\n",
    "        return np.nan"
   ]
  },
  {
   "cell_type": "code",
   "execution_count": 7,
   "metadata": {},
   "outputs": [
    {
     "data": {
      "text/html": [
       "<div>\n",
       "<style scoped>\n",
       "    .dataframe tbody tr th:only-of-type {\n",
       "        vertical-align: middle;\n",
       "    }\n",
       "\n",
       "    .dataframe tbody tr th {\n",
       "        vertical-align: top;\n",
       "    }\n",
       "\n",
       "    .dataframe thead th {\n",
       "        text-align: right;\n",
       "    }\n",
       "</style>\n",
       "<table border=\"1\" class=\"dataframe\">\n",
       "  <thead>\n",
       "    <tr style=\"text-align: right;\">\n",
       "      <th></th>\n",
       "      <th>content</th>\n",
       "      <th>label</th>\n",
       "    </tr>\n",
       "  </thead>\n",
       "  <tbody>\n",
       "    <tr>\n",
       "      <th>0</th>\n",
       "      <td>来源 第 届奥林匹克运动会官方网站 作者 摄影 李威 北京奥运官网 月 日讯 月 日 北京奥...</td>\n",
       "      <td>奥运</td>\n",
       "    </tr>\n",
       "    <tr>\n",
       "      <th>1</th>\n",
       "      <td>葡萄牙两个前锋一人一球 算是给球迷一个交代 但是球队整体低迷的状态 让葡萄牙轻松丢了 球 最...</td>\n",
       "      <td>体育</td>\n",
       "    </tr>\n",
       "    <tr>\n",
       "      <th>2</th>\n",
       "      <td>我来说两句 作者 张仪 瑞士巴塞尔当地时间 月 日晚 北京时间 日凌晨 荷兰队在巴塞尔圣雅各...</td>\n",
       "      <td>体育</td>\n",
       "    </tr>\n",
       "  </tbody>\n",
       "</table>\n",
       "</div>"
      ],
      "text/plain": [
       "                                             content label\n",
       "0  来源 第 届奥林匹克运动会官方网站 作者 摄影 李威 北京奥运官网 月 日讯 月 日 北京奥...    奥运\n",
       "1  葡萄牙两个前锋一人一球 算是给球迷一个交代 但是球队整体低迷的状态 让葡萄牙轻松丢了 球 最...    体育\n",
       "2  我来说两句 作者 张仪 瑞士巴塞尔当地时间 月 日晚 北京时间 日凌晨 荷兰队在巴塞尔圣雅各...    体育"
      ]
     },
     "execution_count": 7,
     "metadata": {},
     "output_type": "execute_result"
    }
   ],
   "source": [
    "train_data['content']=train_data['content'].apply(lambda x:filterOutSpecialCharacters(x,CH_EN_DIG))\n",
    "train_data.head(3)"
   ]
  },
  {
   "cell_type": "code",
   "execution_count": 10,
   "metadata": {},
   "outputs": [
    {
     "name": "stdout",
     "output_type": "stream",
     "text": [
      "nan\n"
     ]
    },
    {
     "data": {
      "text/html": [
       "<div>\n",
       "<style scoped>\n",
       "    .dataframe tbody tr th:only-of-type {\n",
       "        vertical-align: middle;\n",
       "    }\n",
       "\n",
       "    .dataframe tbody tr th {\n",
       "        vertical-align: top;\n",
       "    }\n",
       "\n",
       "    .dataframe thead th {\n",
       "        text-align: right;\n",
       "    }\n",
       "</style>\n",
       "<table border=\"1\" class=\"dataframe\">\n",
       "  <thead>\n",
       "    <tr style=\"text-align: right;\">\n",
       "      <th></th>\n",
       "      <th>content</th>\n",
       "      <th>label</th>\n",
       "    </tr>\n",
       "  </thead>\n",
       "  <tbody>\n",
       "    <tr>\n",
       "      <th>0</th>\n",
       "      <td>[来源,  , 第,  , 届, 奥林匹克运动会, 官方网站,  , 作者,  , 摄影, ...</td>\n",
       "      <td>奥运</td>\n",
       "    </tr>\n",
       "    <tr>\n",
       "      <th>1</th>\n",
       "      <td>[葡萄牙, 两个, 前锋, 一人, 一球,  , 算是, 给, 球迷, 一个, 交代,  ,...</td>\n",
       "      <td>体育</td>\n",
       "    </tr>\n",
       "    <tr>\n",
       "      <th>2</th>\n",
       "      <td>[来说, 两句,  , 作者,  , 张仪,  , 瑞士, 巴塞尔, 当地, 时间,  , ...</td>\n",
       "      <td>体育</td>\n",
       "    </tr>\n",
       "  </tbody>\n",
       "</table>\n",
       "</div>"
      ],
      "text/plain": [
       "                                             content label\n",
       "0  [来源,  , 第,  , 届, 奥林匹克运动会, 官方网站,  , 作者,  , 摄影, ...    奥运\n",
       "1  [葡萄牙, 两个, 前锋, 一人, 一球,  , 算是, 给, 球迷, 一个, 交代,  ,...    体育\n",
       "2  [来说, 两句,  , 作者,  , 张仪,  , 瑞士, 巴塞尔, 当地, 时间,  , ...    体育"
      ]
     },
     "execution_count": 10,
     "metadata": {},
     "output_type": "execute_result"
    }
   ],
   "source": [
    "train_data['content']=train_data['content'].apply(lambda x:cutWords(x,stopwords))\n",
    "train_data.head(3)"
   ]
  },
  {
   "cell_type": "code",
   "execution_count": 16,
   "metadata": {},
   "outputs": [
    {
     "name": "stdout",
     "output_type": "stream",
     "text": [
      "(132579, 2)\n",
      "(132579, 2)\n"
     ]
    }
   ],
   "source": [
    "print(train_data.shape)\n",
    "train_data=train_data.dropna()\n",
    "print(train_data.shape)\n",
    "train_data['content']=train_data['content'].apply(lambda x:' '.join(x))"
   ]
  },
  {
   "cell_type": "code",
   "execution_count": 17,
   "metadata": {},
   "outputs": [],
   "source": [
    "#拆分样本以及分类\n",
    "X=train_data['content']\n",
    "y=train_data['label']"
   ]
  },
  {
   "cell_type": "code",
   "execution_count": 13,
   "metadata": {},
   "outputs": [],
   "source": [
    "from sklearn.preprocessing import LabelEncoder\n",
    "from sklearn.feature_extraction.text import TfidfVectorizer"
   ]
  },
  {
   "cell_type": "code",
   "execution_count": 18,
   "metadata": {},
   "outputs": [],
   "source": [
    "#对类别编码\n",
    "encoder=LabelEncoder()\n",
    "y_encode=encoder.fit_transform(y)"
   ]
  },
  {
   "cell_type": "code",
   "execution_count": 22,
   "metadata": {},
   "outputs": [],
   "source": [
    "vectorizer=TfidfVectorizer(min_df=20)\n",
    "X_vec=vectorizer.fit_transform(X)"
   ]
  },
  {
   "cell_type": "code",
   "execution_count": 23,
   "metadata": {},
   "outputs": [
    {
     "data": {
      "text/plain": [
       "(132579, 50401)"
      ]
     },
     "execution_count": 23,
     "metadata": {},
     "output_type": "execute_result"
    }
   ],
   "source": [
    "X_vec.shape"
   ]
  },
  {
   "cell_type": "code",
   "execution_count": 24,
   "metadata": {},
   "outputs": [],
   "source": [
    "from sklearn.linear_model import LogisticRegression"
   ]
  },
  {
   "cell_type": "code",
   "execution_count": 25,
   "metadata": {},
   "outputs": [
    {
     "name": "stderr",
     "output_type": "stream",
     "text": [
      "/anaconda3/lib/python3.7/site-packages/sklearn/linear_model/logistic.py:433: FutureWarning: Default solver will be changed to 'lbfgs' in 0.22. Specify a solver to silence this warning.\n",
      "  FutureWarning)\n",
      "/anaconda3/lib/python3.7/site-packages/sklearn/linear_model/logistic.py:460: FutureWarning: Default multi_class will be changed to 'auto' in 0.22. Specify the multi_class option to silence this warning.\n",
      "  \"this warning.\", FutureWarning)\n"
     ]
    },
    {
     "data": {
      "text/plain": [
       "LogisticRegression(C=1.0, class_weight=None, dual=False, fit_intercept=True,\n",
       "          intercept_scaling=1, max_iter=100, multi_class='warn',\n",
       "          n_jobs=None, penalty='l2', random_state=None, solver='warn',\n",
       "          tol=0.0001, verbose=0, warm_start=False)"
      ]
     },
     "execution_count": 25,
     "metadata": {},
     "output_type": "execute_result"
    }
   ],
   "source": [
    "clf=LogisticRegression(multi_class='ovr')\n",
    "clf.fit(X_vec,y_encode)"
   ]
  },
  {
   "cell_type": "code",
   "execution_count": 26,
   "metadata": {},
   "outputs": [
    {
     "name": "stdout",
     "output_type": "stream",
     "text": [
      "0.9841075886829739\n"
     ]
    }
   ],
   "source": [
    "print(clf.score(X_vec,y_encode))"
   ]
  },
  {
   "cell_type": "markdown",
   "metadata": {},
   "source": [
    "# 下面进行测试"
   ]
  },
  {
   "cell_type": "code",
   "execution_count": 28,
   "metadata": {},
   "outputs": [
    {
     "data": {
      "text/html": [
       "<div>\n",
       "<style scoped>\n",
       "    .dataframe tbody tr th:only-of-type {\n",
       "        vertical-align: middle;\n",
       "    }\n",
       "\n",
       "    .dataframe tbody tr th {\n",
       "        vertical-align: top;\n",
       "    }\n",
       "\n",
       "    .dataframe thead th {\n",
       "        text-align: right;\n",
       "    }\n",
       "</style>\n",
       "<table border=\"1\" class=\"dataframe\">\n",
       "  <thead>\n",
       "    <tr style=\"text-align: right;\">\n",
       "      <th></th>\n",
       "      <th>content</th>\n",
       "      <th>label</th>\n",
       "    </tr>\n",
       "  </thead>\n",
       "  <tbody>\n",
       "    <tr>\n",
       "      <th>0</th>\n",
       "      <td>来源：深圳新闻网－深圳特区报本报讯北京时间６月１６日河南济源消息，中国男篮以８０∶７６第三...</td>\n",
       "      <td>体育</td>\n",
       "    </tr>\n",
       "    <tr>\n",
       "      <th>1</th>\n",
       "      <td>随着北京奥运盛会临近，今年７月、８月、９月也变得与以往不同，起码在汽车商家眼中是这样。“北...</td>\n",
       "      <td>汽车</td>\n",
       "    </tr>\n",
       "    <tr>\n",
       "      <th>2</th>\n",
       "      <td>足坛聚焦＿中国足球</td>\n",
       "      <td>体育</td>\n",
       "    </tr>\n",
       "  </tbody>\n",
       "</table>\n",
       "</div>"
      ],
      "text/plain": [
       "                                             content label\n",
       "0  来源：深圳新闻网－深圳特区报本报讯北京时间６月１６日河南济源消息，中国男篮以８０∶７６第三...    体育\n",
       "1  随着北京奥运盛会临近，今年７月、８月、９月也变得与以往不同，起码在汽车商家眼中是这样。“北...    汽车\n",
       "2                                          足坛聚焦＿中国足球    体育"
      ]
     },
     "execution_count": 28,
     "metadata": {},
     "output_type": "execute_result"
    }
   ],
   "source": [
    "test_path=\"data/news_test.csv\"\n",
    "test_data=pd.read_csv(test_path,sep=\"\\t\")\n",
    "test_data.head(3)"
   ]
  },
  {
   "cell_type": "code",
   "execution_count": 29,
   "metadata": {},
   "outputs": [
    {
     "data": {
      "text/html": [
       "<div>\n",
       "<style scoped>\n",
       "    .dataframe tbody tr th:only-of-type {\n",
       "        vertical-align: middle;\n",
       "    }\n",
       "\n",
       "    .dataframe tbody tr th {\n",
       "        vertical-align: top;\n",
       "    }\n",
       "\n",
       "    .dataframe thead th {\n",
       "        text-align: right;\n",
       "    }\n",
       "</style>\n",
       "<table border=\"1\" class=\"dataframe\">\n",
       "  <thead>\n",
       "    <tr style=\"text-align: right;\">\n",
       "      <th></th>\n",
       "      <th>content</th>\n",
       "      <th>label</th>\n",
       "    </tr>\n",
       "  </thead>\n",
       "  <tbody>\n",
       "    <tr>\n",
       "      <th>0</th>\n",
       "      <td>来源 深圳新闻网 深圳特区报 本报讯北京时间 月 日河南济源消息 中国男篮以 第三次战胜克罗...</td>\n",
       "      <td>体育</td>\n",
       "    </tr>\n",
       "    <tr>\n",
       "      <th>1</th>\n",
       "      <td>随着北京奥运盛会临近 今年 月 月 月也变得与以往不同 起码在汽车商家眼中是这样 北京有可能...</td>\n",
       "      <td>汽车</td>\n",
       "    </tr>\n",
       "    <tr>\n",
       "      <th>2</th>\n",
       "      <td>足坛聚焦 中国足球</td>\n",
       "      <td>体育</td>\n",
       "    </tr>\n",
       "  </tbody>\n",
       "</table>\n",
       "</div>"
      ],
      "text/plain": [
       "                                             content label\n",
       "0  来源 深圳新闻网 深圳特区报 本报讯北京时间 月 日河南济源消息 中国男篮以 第三次战胜克罗...    体育\n",
       "1  随着北京奥运盛会临近 今年 月 月 月也变得与以往不同 起码在汽车商家眼中是这样 北京有可能...    汽车\n",
       "2                                          足坛聚焦 中国足球    体育"
      ]
     },
     "execution_count": 29,
     "metadata": {},
     "output_type": "execute_result"
    }
   ],
   "source": [
    "test_data['content']=test_data['content'].apply(lambda x:filterOutSpecialCharacters(x,CH_EN_DIG))\n",
    "test_data.head(3)"
   ]
  },
  {
   "cell_type": "code",
   "execution_count": 30,
   "metadata": {},
   "outputs": [
    {
     "name": "stdout",
     "output_type": "stream",
     "text": [
      "nan\n",
      "nan\n"
     ]
    },
    {
     "data": {
      "text/html": [
       "<div>\n",
       "<style scoped>\n",
       "    .dataframe tbody tr th:only-of-type {\n",
       "        vertical-align: middle;\n",
       "    }\n",
       "\n",
       "    .dataframe tbody tr th {\n",
       "        vertical-align: top;\n",
       "    }\n",
       "\n",
       "    .dataframe thead th {\n",
       "        text-align: right;\n",
       "    }\n",
       "</style>\n",
       "<table border=\"1\" class=\"dataframe\">\n",
       "  <thead>\n",
       "    <tr style=\"text-align: right;\">\n",
       "      <th></th>\n",
       "      <th>content</th>\n",
       "      <th>label</th>\n",
       "    </tr>\n",
       "  </thead>\n",
       "  <tbody>\n",
       "    <tr>\n",
       "      <th>0</th>\n",
       "      <td>[来源,  , 深圳, 新闻网,  , 深圳特区, 报,  , 本报讯, 北京, 时间,  ...</td>\n",
       "      <td>体育</td>\n",
       "    </tr>\n",
       "    <tr>\n",
       "      <th>1</th>\n",
       "      <td>[随着, 北京奥运, 盛会, 临近,  , 今年,  , 月,  , 月,  , 月, 也,...</td>\n",
       "      <td>汽车</td>\n",
       "    </tr>\n",
       "    <tr>\n",
       "      <th>2</th>\n",
       "      <td>[足坛, 聚焦,  , 中国, 足球]</td>\n",
       "      <td>体育</td>\n",
       "    </tr>\n",
       "  </tbody>\n",
       "</table>\n",
       "</div>"
      ],
      "text/plain": [
       "                                             content label\n",
       "0  [来源,  , 深圳, 新闻网,  , 深圳特区, 报,  , 本报讯, 北京, 时间,  ...    体育\n",
       "1  [随着, 北京奥运, 盛会, 临近,  , 今年,  , 月,  , 月,  , 月, 也,...    汽车\n",
       "2                                [足坛, 聚焦,  , 中国, 足球]    体育"
      ]
     },
     "execution_count": 30,
     "metadata": {},
     "output_type": "execute_result"
    }
   ],
   "source": [
    "test_data['content']=test_data['content'].apply(lambda x:cutWords(x,stopwords))\n",
    "test_data.head(3)"
   ]
  },
  {
   "cell_type": "code",
   "execution_count": 31,
   "metadata": {},
   "outputs": [
    {
     "name": "stdout",
     "output_type": "stream",
     "text": [
      "(65302, 2)\n",
      "(65300, 2)\n"
     ]
    }
   ],
   "source": [
    "print(test_data.shape)\n",
    "test_data=test_data.dropna()\n",
    "print(test_data.shape)\n",
    "test_data['content']=test_data['content'].apply(lambda x:' '.join(x))"
   ]
  },
  {
   "cell_type": "code",
   "execution_count": 32,
   "metadata": {},
   "outputs": [],
   "source": [
    "X_test=vectorizer.transform(test_data['content'])\n",
    "y_test=encoder.transform(test_data['label'])"
   ]
  },
  {
   "cell_type": "code",
   "execution_count": 33,
   "metadata": {},
   "outputs": [
    {
     "name": "stdout",
     "output_type": "stream",
     "text": [
      "0.9780245022970904\n"
     ]
    }
   ],
   "source": [
    "print(clf.score(X_test,y_test))\n",
    "y_pred=clf.predict(X_test)\n",
    "y_pred_inverse=pd.DataFrame(encoder.inverse_transform(y_pred),columns=['predict'])"
   ]
  },
  {
   "cell_type": "code",
   "execution_count": 37,
   "metadata": {},
   "outputs": [
    {
     "name": "stdout",
     "output_type": "stream",
     "text": [
      "                                             content label predict\n",
      "0  来源：深圳新闻网－深圳特区报本报讯北京时间６月１６日河南济源消息，中国男篮以８０∶７６第三...    体育      体育\n",
      "1  随着北京奥运盛会临近，今年７月、８月、９月也变得与以往不同，起码在汽车商家眼中是这样。“北...    汽车      汽车\n",
      "2                                          足坛聚焦＿中国足球    体育      体育\n",
      "3  姜灿中国人民银行杭州房贷工作会议透露，买期房不再提供按揭贷款昨天，参加中国人民银行杭州房...    房产      房产\n",
      "4  一周新闻留言榜共２００条　这是第１－７０条　上一页　｜　１　２　３　｜　下一页共２００条...    房产      房产\n"
     ]
    }
   ],
   "source": [
    "test_data_2=pd.read_csv(test_path,sep=\"\\t\")\n",
    "test_data_pred=pd.concat([test_data_2,y_pred_inverse],axis=1)\n",
    "print(test_data_pred.head(5))"
   ]
  },
  {
   "cell_type": "code",
   "execution_count": null,
   "metadata": {},
   "outputs": [],
   "source": []
  }
 ],
 "metadata": {
  "kernelspec": {
   "display_name": "Python 3",
   "language": "python",
   "name": "python3"
  },
  "language_info": {
   "codemirror_mode": {
    "name": "ipython",
    "version": 3
   },
   "file_extension": ".py",
   "mimetype": "text/x-python",
   "name": "python",
   "nbconvert_exporter": "python",
   "pygments_lexer": "ipython3",
   "version": "3.7.1"
  }
 },
 "nbformat": 4,
 "nbformat_minor": 2
}
